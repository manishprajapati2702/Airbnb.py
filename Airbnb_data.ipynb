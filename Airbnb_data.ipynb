{
 "cells": [
  {
   "cell_type": "code",
   "execution_count": null,
   "id": "d88ca7dd-d4de-4386-8698-2075df3c8177",
   "metadata": {},
   "outputs": [],
   "source": [
    "# Python library importing\n",
    "import numpy as np\n",
    "import pandas as pd\n",
    "import matplotlib.pyplot as plt\n",
    "import seaborn as sns"
   ]
  },
  {
   "cell_type": "code",
   "execution_count": null,
   "id": "f605f1bf-84b8-4d6e-8c97-a5c0449909f7",
   "metadata": {},
   "outputs": [],
   "source": [
    "# Reading dataset(data table Record) csv file\n",
    "df = pd.read_csv(\"Airbnb_data.csv\")"
   ]
  },
  {
   "cell_type": "code",
   "execution_count": null,
   "id": "8b0fd9ed-d6f1-4de0-a00b-50d9520f5460",
   "metadata": {},
   "outputs": [],
   "source": [
    "df.head()"
   ]
  },
  {
   "cell_type": "code",
   "execution_count": null,
   "id": "cc726d61-693b-4e80-88c1-1f609c0c2d12",
   "metadata": {},
   "outputs": [],
   "source": [
    "df.columns # to check/see all columns name"
   ]
  },
  {
   "cell_type": "markdown",
   "id": "02970f31-df96-421b-8c2b-398986e4b0a4",
   "metadata": {},
   "source": [
    "#Checking missing value"
   ]
  },
  {
   "cell_type": "code",
   "execution_count": null,
   "id": "f7c6b181-b4e6-4729-8fdf-233336d24151",
   "metadata": {},
   "outputs": [],
   "source": [
    "print(df.isnull().sum())"
   ]
  },
  {
   "cell_type": "code",
   "execution_count": null,
   "id": "af210d95-bbde-483b-8877-b9b69df1362b",
   "metadata": {
    "scrolled": true
   },
   "outputs": [],
   "source": [
    "df.info()"
   ]
  },
  {
   "cell_type": "markdown",
   "id": "2e93c6a8-920c-4bf6-a00d-5a33928357ea",
   "metadata": {},
   "source": [
    "#Handling missing values"
   ]
  },
  {
   "cell_type": "code",
   "execution_count": null,
   "id": "d8528a64-ac5d-4060-bee4-97a762d02fb3",
   "metadata": {
    "scrolled": true
   },
   "outputs": [],
   "source": [
    "# converting last review cols object format into datetimee col format\n",
    "df['last review'] = pd.to_datetime(df['last review'], errors = 'coerce')\n",
    "#coerce keyword change any missing date into NaT (Not A Thing)format to prevent errors."
   ]
  },
  {
   "cell_type": "code",
   "execution_count": null,
   "id": "1075c3dd-5411-4c15-8964-877e58551fd2",
   "metadata": {},
   "outputs": [],
   "source": [
    "df.info()"
   ]
  },
  {
   "cell_type": "code",
   "execution_count": null,
   "id": "7c4ca3d0-123a-404e-abd3-5d249120f975",
   "metadata": {},
   "outputs": [],
   "source": [
    "# replacing nan to zero value for getting missing value instead of nan in reviews per month cols.\n",
    "# replacing nan to min value date for getting missing value instead of nan in last review cols.\n",
    "df.fillna({'reviews per month':0, 'last review':df['last review'].min()},inplace=True)"
   ]
  },
  {
   "cell_type": "code",
   "execution_count": null,
   "id": "f9d9e3dc-3394-4c0e-8c8b-75eed8833fae",
   "metadata": {},
   "outputs": [],
   "source": [
    "# removing missing value NA value from NAME and hostname cols\n",
    "df.dropna(subset=['NAME','host name'],inplace=True)"
   ]
  },
  {
   "cell_type": "code",
   "execution_count": null,
   "id": "a0152f7c-531d-4527-8b6b-f6d9b1aad35e",
   "metadata": {},
   "outputs": [],
   "source": [
    "# checking is there any null value\n",
    "print(df.isnull().sum())"
   ]
  },
  {
   "cell_type": "code",
   "execution_count": null,
   "id": "9986fa82-e84f-4f8e-9e50-4afdef68eb31",
   "metadata": {},
   "outputs": [],
   "source": [
    "# removing unwanted columns\n",
    "df=df.drop(columns=[\"license\",\"house_rules\"],errors='ignore')"
   ]
  },
  {
   "cell_type": "code",
   "execution_count": null,
   "id": "6e63e5a3-8344-4d88-9345-1684e1ae3d0a",
   "metadata": {},
   "outputs": [],
   "source": [
    "df.head()"
   ]
  },
  {
   "cell_type": "code",
   "execution_count": null,
   "id": "0df3708a-763d-47dd-8ec2-65efb3874729",
   "metadata": {},
   "outputs": [],
   "source": [
    "# Remove dollar signs and convert to float to price and service fee cols\n",
    "df['price']=df['price'].replace('[\\$,]','',regex=True).astype(float)\n",
    "df['service fee']=df['service fee'].replace('[/$,]','',regex=True).astype(float)"
   ]
  },
  {
   "cell_type": "code",
   "execution_count": null,
   "id": "74575ecb-0dee-4f39-8ad9-d2faafb4e548",
   "metadata": {},
   "outputs": [],
   "source": [
    "df.head()"
   ]
  },
  {
   "cell_type": "markdown",
   "id": "9cca26cc-006d-4448-b9b4-c47ffcbd6f04",
   "metadata": {},
   "source": [
    "#Remove Duplicates"
   ]
  },
  {
   "cell_type": "code",
   "execution_count": null,
   "id": "d26baef6-90ff-4781-943c-a5293e0be6d5",
   "metadata": {},
   "outputs": [],
   "source": [
    "df.drop_duplicates(inplace=True)"
   ]
  },
  {
   "cell_type": "code",
   "execution_count": null,
   "id": "4c28be79-247c-4134-a409-543318c62f90",
   "metadata": {},
   "outputs": [],
   "source": [
    "df.info()"
   ]
  },
  {
   "cell_type": "code",
   "execution_count": null,
   "id": "3202fd7a-f3cf-4ccf-8667-525b0a115ea9",
   "metadata": {},
   "outputs": [],
   "source": [
    "#Descriptive statistics\n",
    "df.describe()"
   ]
  },
  {
   "cell_type": "markdown",
   "id": "4858c6ac-d22f-4d65-b5da-db420393ede6",
   "metadata": {},
   "source": [
    "#visualization"
   ]
  },
  {
   "cell_type": "markdown",
   "id": "f4fa33a1-e3db-45e1-b867-96438df5014b",
   "metadata": {},
   "source": [
    "Q1.What is the distribution of listing prices?"
   ]
  },
  {
   "cell_type": "code",
   "execution_count": null,
   "id": "559ed5b3-83e0-4acb-943f-65a3d2eb3c4c",
   "metadata": {},
   "outputs": [],
   "source": [
    "plt.figure(figsize=(10,6))\n",
    "sns.histplot(df['price'],bins=50,kde=True,color='red')\n",
    "plt.title(\"Distribution of listing prices\")\n",
    "plt.xlabel(\"Price $\")\n",
    "plt.ylabel(\"Frequency\")\n",
    "plt.show()"
   ]
  },
  {
   "cell_type": "markdown",
   "id": "a95fc4d6-bbb6-4f10-a483-296c8730d99f",
   "metadata": {},
   "source": [
    "#The histogram shows a fairly even distribution of listing prices across dfferent price ranges,\n",
    "  indicating no particular concentration of listings in any specific price range.\n",
    "  The KDE line helps visualize this even spread more clearly,confirming that the dataset contains listings with variety of prices."
   ]
  },
  {
   "cell_type": "markdown",
   "id": "2a592c72-d7ee-476a-8b4c-2c0974e185cd",
   "metadata": {},
   "source": [
    "Q2.How are different room types distributed?"
   ]
  },
  {
   "cell_type": "code",
   "execution_count": null,
   "id": "37e087d6-884b-46e4-be08-06b9c33b9341",
   "metadata": {},
   "outputs": [],
   "source": [
    "df['room type']"
   ]
  },
  {
   "cell_type": "code",
   "execution_count": null,
   "id": "4108a644-e264-4cab-bbe6-7f29a68968e0",
   "metadata": {},
   "outputs": [],
   "source": [
    "plt.figure(figsize=(8,5))\n",
    "sns.countplot(x=\"room type\", data=df, color=\"hotpink\")\n",
    "plt.title(\"room type distribution\")\n",
    "plt.xlabel(\"room type\")\n",
    "plt.ylabel(\"count\")\n",
    "plt.show()"
   ]
  },
  {
   "cell_type": "markdown",
   "id": "1a498585-72cc-4196-acdb-2a6d3cce9e7b",
   "metadata": {},
   "source": [
    "Q3.How are listings distributed across different neighborhoods?"
   ]
  },
  {
   "cell_type": "code",
   "execution_count": null,
   "id": "52515f21-77be-4bf7-9c8b-1b69973ed87e",
   "metadata": {},
   "outputs": [],
   "source": [
    "plt.figure(figsize=(12,8))\n",
    "sns.countplot(y='neighbourhood group', data=df, color=\"lightgreen\", order=df['neighbourhood group'].value_counts().index)\n",
    "plt.xlabel('Count')\n",
    "plt.ylabel('Neighbourhood Group')\n",
    "plt.show()"
   ]
  },
  {
   "cell_type": "markdown",
   "id": "998168ed-a630-4061-b171-e26221b1a57d",
   "metadata": {},
   "source": [
    "Q4. what is the relationship between price and room type"
   ]
  },
  {
   "cell_type": "code",
   "execution_count": null,
   "id": "20fd6bc7-4d65-46b4-84c7-f9769469a251",
   "metadata": {},
   "outputs": [],
   "source": [
    "plt.figure(figsize=(10, 6))\n",
    "sns.boxplot(x='room type', y='price', hue='room type', data=df, palette='Set1')\n",
    "plt.title('Price vs Room Type')\n",
    "plt.xlabel('Room type')\n",
    "plt.ylabel('Price($)')\n",
    "plt.legend(title='Room Type')\n",
    "plt.show()"
   ]
  },
  {
   "cell_type": "markdown",
   "id": "5a9eabc9-b721-4068-b6c5-aab96f2a9378",
   "metadata": {},
   "source": [
    "Q5.How has the number of reviews change over with time "
   ]
  },
  {
   "cell_type": "code",
   "execution_count": null,
   "id": "fc7a7972-68ba-4a65-aa81-cd17ffd9af29",
   "metadata": {},
   "outputs": [],
   "source": [
    "df['last review']=pd.to_datetime(df['last review'])\n",
    "reviews_over_time=df.groupby(df['last review'].dt.to_period('M')).size()\n",
    "\n",
    "plt.figure(figsize=(12,6))\n",
    "reviews_over_time.plot(kind='line',color='red')\n",
    "plt.title('Number of Reviews Over Time')\n",
    "plt.xlabel('Date')\n",
    "plt.ylabel('Number of Reviews')\n",
    "plt.show()"
   ]
  },
  {
   "cell_type": "code",
   "execution_count": null,
   "id": "f24b8c7c-6dbe-4384-8223-18003a3efe22",
   "metadata": {},
   "outputs": [],
   "source": []
  }
 ],
 "metadata": {
  "kernelspec": {
   "display_name": "Python 3 (ipykernel)",
   "language": "python",
   "name": "python3"
  },
  "language_info": {
   "codemirror_mode": {
    "name": "ipython",
    "version": 3
   },
   "file_extension": ".py",
   "mimetype": "text/x-python",
   "name": "python",
   "nbconvert_exporter": "python",
   "pygments_lexer": "ipython3",
   "version": "3.12.4"
  }
 },
 "nbformat": 4,
 "nbformat_minor": 5
}
